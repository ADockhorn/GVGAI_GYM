{
 "cells": [
  {
   "cell_type": "code",
   "execution_count": null,
   "metadata": {
    "collapsed": true
   },
   "outputs": [],
   "source": [
    "#def callback(lcl, glb):\n",
    "    # stop training if reward exceeds 199\n",
    "#    is_solved = lcl['t'] > 100 and sum(lcl['episode_rewards'][-101:-1]) / 100 >= 199\n",
    "#    return is_solved"
   ]
  },
  {
   "cell_type": "code",
   "execution_count": 1,
   "metadata": {
    "collapsed": false
   },
   "outputs": [
    {
     "name": "stderr",
     "output_type": "stream",
     "text": [
      "/home/jupyter/anaconda3/envs/GVGAI_GYM/lib/python3.6/site-packages/h5py/__init__.py:34: FutureWarning: Conversion of the second argument of issubdtype from `float` to `np.floating` is deprecated. In future, it will be treated as `np.float64 == np.dtype(float).type`.\n",
      "  from ._conv import register_converters as _register_converters\n"
     ]
    }
   ],
   "source": [
    "from baselines import deepq\n",
    "from baselines.common import set_global_seeds\n",
    "from baselines import bench\n",
    "import argparse\n",
    "from baselines import logger\n",
    "from baselines.common.atari_wrappers import make_atari"
   ]
  },
  {
   "cell_type": "code",
   "execution_count": 4,
   "metadata": {
    "collapsed": false
   },
   "outputs": [
    {
     "name": "stdout",
     "output_type": "stream",
     "text": [
      "Logging to /tmp/openai-2018-03-03-14-06-46-837428\n",
      "GVGAI_Env - Version 0.0.1\n",
      "Connecting to host 127.0.0.1 at port 8080 ...\n",
      "Client connected to server [OK]\n",
      "GET SCREEN DIMENSIONS!!! (FIX: Right now just 110x300x3)\n"
     ]
    },
    {
     "ename": "NameError",
     "evalue": "name 'NoopResetEnv' is not defined",
     "output_type": "error",
     "traceback": [
      "\u001b[0;31m---------------------------------------------------------------------------\u001b[0m",
      "\u001b[0;31mNameError\u001b[0m                                 Traceback (most recent call last)",
      "\u001b[0;32m<ipython-input-4-a5a2ff5efc14>\u001b[0m in \u001b[0;36m<module>\u001b[0;34m()\u001b[0m\n\u001b[1;32m     45\u001b[0m \u001b[0;34m\u001b[0m\u001b[0m\n\u001b[1;32m     46\u001b[0m \u001b[0;32mif\u001b[0m \u001b[0m__name__\u001b[0m \u001b[0;34m==\u001b[0m \u001b[0;34m'__main__'\u001b[0m\u001b[0;34m:\u001b[0m\u001b[0;34m\u001b[0m\u001b[0m\n\u001b[0;32m---> 47\u001b[0;31m     \u001b[0mmain\u001b[0m\u001b[0;34m(\u001b[0m\u001b[0;34m)\u001b[0m\u001b[0;34m\u001b[0m\u001b[0m\n\u001b[0m",
      "\u001b[0;32m<ipython-input-4-a5a2ff5efc14>\u001b[0m in \u001b[0;36mmain\u001b[0;34m()\u001b[0m\n\u001b[1;32m     16\u001b[0m     \u001b[0menv\u001b[0m \u001b[0;34m=\u001b[0m \u001b[0mgym\u001b[0m\u001b[0;34m.\u001b[0m\u001b[0mmake\u001b[0m\u001b[0;34m(\u001b[0m\u001b[0;34m'aliens-gvgai-v0'\u001b[0m\u001b[0;34m)\u001b[0m\u001b[0;34m\u001b[0m\u001b[0m\n\u001b[1;32m     17\u001b[0m     \u001b[0;31m#assert 'NoFrameskip' in env.spec.id\u001b[0m\u001b[0;34m\u001b[0m\u001b[0;34m\u001b[0m\u001b[0m\n\u001b[0;32m---> 18\u001b[0;31m     \u001b[0menv\u001b[0m \u001b[0;34m=\u001b[0m \u001b[0mNoopResetEnv\u001b[0m\u001b[0;34m(\u001b[0m\u001b[0menv\u001b[0m\u001b[0;34m,\u001b[0m \u001b[0mnoop_max\u001b[0m\u001b[0;34m=\u001b[0m\u001b[0;36m30\u001b[0m\u001b[0;34m)\u001b[0m\u001b[0;34m\u001b[0m\u001b[0m\n\u001b[0m\u001b[1;32m     19\u001b[0m     \u001b[0menv\u001b[0m \u001b[0;34m=\u001b[0m \u001b[0mMaxAndSkipEnv\u001b[0m\u001b[0;34m(\u001b[0m\u001b[0menv\u001b[0m\u001b[0;34m,\u001b[0m \u001b[0mskip\u001b[0m\u001b[0;34m=\u001b[0m\u001b[0;36m4\u001b[0m\u001b[0;34m)\u001b[0m\u001b[0;34m\u001b[0m\u001b[0m\n\u001b[1;32m     20\u001b[0m     \u001b[0;31m#env = gym.make(\"BreakoutNoFrameskip-v4\")\u001b[0m\u001b[0;34m\u001b[0m\u001b[0;34m\u001b[0m\u001b[0m\n",
      "\u001b[0;31mNameError\u001b[0m: name 'NoopResetEnv' is not defined"
     ]
    }
   ],
   "source": [
    "import gym\n",
    "\n",
    "from baselines import deepq\n",
    "\n",
    "from IPython.core.debugger import Tracer\n",
    "\n",
    "import gym_gvgai\n",
    "#env = gym.make('aliens-gvgai-v0')\n",
    "\n",
    "\n",
    "def main():\n",
    "    logger.configure()\n",
    "    set_global_seeds(0)\n",
    "    #Tracer()()\n",
    "    #env = make_atari('aliens-gvgai-v0')\n",
    "    \n",
    "    env = gym.make('aliens-gvgai-v0')\n",
    "    #assert 'NoFrameskip' in env.spec.id\n",
    "    #env = NoopResetEnv(env, noop_max=30)\n",
    "    #env = MaxAndSkipEnv(env, skip=4)\n",
    "    \n",
    "    \n",
    "    #env = gym.make(\"BreakoutNoFrameskip-v4\")\n",
    "    #env = gym.make('aliens-gvgai-v0')\n",
    "    env = bench.Monitor(env, logger.get_dir())\n",
    "    env = deepq.wrap_atari_dqn(env)\n",
    "    # Enabling layer_norm here is import for parameter space noise!\n",
    "    model = deepq.models.cnn_to_mlp(\n",
    "        convs=[(32, 8, 4), (64, 4, 2), (64, 3, 1)],\n",
    "        hiddens=[256],\n",
    "        dueling=bool(int(1)),\n",
    "    )\n",
    "    act = deepq.learn(\n",
    "        env,\n",
    "        q_func=model,\n",
    "        lr=1e-3,\n",
    "        max_timesteps=100000,\n",
    "        buffer_size=50000,\n",
    "        exploration_fraction=0.1,\n",
    "        exploration_final_eps=0.1,\n",
    "        print_freq=10,\n",
    "        #callback=callback\n",
    "    )\n",
    "    #print(\"Saving model to mountaincar_model.pkl\")\n",
    "    #act.save(\"mountaincar_model.pkl\")\n",
    "\n",
    "\n",
    "if __name__ == '__main__':\n",
    "    main()"
   ]
  },
  {
   "cell_type": "code",
   "execution_count": null,
   "metadata": {
    "collapsed": true
   },
   "outputs": [],
   "source": []
  },
  {
   "cell_type": "code",
   "execution_count": null,
   "metadata": {
    "collapsed": false
   },
   "outputs": [],
   "source": [
    "env.unwrapped.ale.lives()"
   ]
  },
  {
   "cell_type": "code",
   "execution_count": null,
   "metadata": {
    "collapsed": false
   },
   "outputs": [],
   "source": [
    "def main():\n",
    "    parser = argparse.ArgumentParser(formatter_class=argparse.ArgumentDefaultsHelpFormatter)\n",
    "    parser.add_argument('--env', help='environment ID', default='BreakoutNoFrameskip-v4')\n",
    "    parser.add_argument('--seed', help='RNG seed', type=int, default=0)\n",
    "    parser.add_argument('--prioritized', type=int, default=1)\n",
    "    parser.add_argument('--dueling', type=int, default=1)\n",
    "    parser.add_argument('--num-timesteps', type=int, default=int(10e6))\n",
    "    args = parser.parse_args()\n",
    "    logger.configure()\n",
    "    set_global_seeds(args.seed)\n",
    "    env = make_atari(args.env)\n",
    "    env = bench.Monitor(env, logger.get_dir())\n",
    "    env = deepq.wrap_atari_dqn(env)\n",
    "    model = deepq.models.cnn_to_mlp(\n",
    "        convs=[(32, 8, 4), (64, 4, 2), (64, 3, 1)],\n",
    "        hiddens=[256],\n",
    "        dueling=bool(args.dueling),\n",
    "    )\n",
    "    act = deepq.learn(\n",
    "        env,\n",
    "        q_func=model,\n",
    "        lr=1e-4,\n",
    "        max_timesteps=args.num_timesteps,\n",
    "        buffer_size=10000,\n",
    "        exploration_fraction=0.1,\n",
    "        exploration_final_eps=0.01,\n",
    "        train_freq=4,\n",
    "        learning_starts=10000,\n",
    "        target_network_update_freq=1000,\n",
    "        gamma=0.99,\n",
    "        prioritized_replay=bool(args.prioritized)\n",
    "    )\n",
    "    # act.save(\"pong_model.pkl\") XXX\n",
    "    env.close()\n",
    "\n",
    "\n",
    "if __name__ == '__main__':\n",
    "    main()"
   ]
  },
  {
   "cell_type": "code",
   "execution_count": null,
   "metadata": {
    "collapsed": true
   },
   "outputs": [],
   "source": []
  }
 ],
 "metadata": {
  "anaconda-cloud": {},
  "kernelspec": {
   "display_name": "Python [conda env:GVGAI_GYM]",
   "language": "python",
   "name": "conda-env-GVGAI_GYM-py"
  },
  "language_info": {
   "codemirror_mode": {
    "name": "ipython",
    "version": 3
   },
   "file_extension": ".py",
   "mimetype": "text/x-python",
   "name": "python",
   "nbconvert_exporter": "python",
   "pygments_lexer": "ipython3",
   "version": "3.6.2"
  }
 },
 "nbformat": 4,
 "nbformat_minor": 1
}
