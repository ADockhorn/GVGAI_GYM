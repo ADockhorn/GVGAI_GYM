{
 "cells": [
  {
   "cell_type": "code",
   "execution_count": 1,
   "metadata": {
    "collapsed": false
   },
   "outputs": [
    {
     "name": "stderr",
     "output_type": "stream",
     "text": [
      "/home/jupyter/anaconda3/envs/GVGAI_GYM/lib/python3.6/site-packages/h5py/__init__.py:34: FutureWarning: Conversion of the second argument of issubdtype from `float` to `np.floating` is deprecated. In future, it will be treated as `np.float64 == np.dtype(float).type`.\n",
      "  from ._conv import register_converters as _register_converters\n"
     ]
    }
   ],
   "source": [
    "from baselines import deepq\n",
    "from baselines.common import set_global_seeds\n",
    "from baselines import bench\n",
    "import argparse\n",
    "from baselines import logger\n",
    "from baselines.common.atari_wrappers import make_atari"
   ]
  },
  {
   "cell_type": "code",
   "execution_count": 2,
   "metadata": {
    "collapsed": false
   },
   "outputs": [
    {
     "name": "stdout",
     "output_type": "stream",
     "text": [
      "Logging to /tmp/openai-2018-03-01-22-01-12-797776\n",
      "GVGAI_Env - Version 0.0.1\n",
      "Connecting to host 127.0.0.1 at port 8080 ...\n",
      "Client connected to server [OK]\n",
      "GET SCREEN DIMENSIONS!!! (FIX: Right now just 200x200)\n",
      "WARNING:tensorflow:From /home/jupyter/anaconda3/envs/GVGAI_GYM/lib/python3.6/site-packages/tensorflow/python/ops/clip_ops.py:113: calling reduce_sum (from tensorflow.python.ops.math_ops) with keep_dims is deprecated and will be removed in a future version.\n",
      "Instructions for updating:\n",
      "keep_dims is deprecated, use keepdims instead\n"
     ]
    },
    {
     "name": "stderr",
     "output_type": "stream",
     "text": [
      "ERROR:root:Internal Python error in the inspect module.\n",
      "Below is the traceback from this internal error.\n",
      "\n"
     ]
    },
    {
     "name": "stdout",
     "output_type": "stream",
     "text": [
      "Traceback (most recent call last):\n",
      "  File \"/home/jupyter/anaconda3/envs/GVGAI_GYM/lib/python3.6/site-packages/IPython/core/interactiveshell.py\", line 2862, in run_code\n",
      "    exec(code_obj, self.user_global_ns, self.user_ns)\n",
      "  File \"<ipython-input-2-42fc8aa9d7c7>\", line 42, in <module>\n",
      "    main()\n",
      "  File \"<ipython-input-2-42fc8aa9d7c7>\", line 35, in main\n",
      "    param_noise=True\n",
      "  File \"/home/jupyter/baselines/baselines/deepq/simple.py\", line 263, in learn\n",
      "    td_errors = train(obses_t, actions, rewards, obses_tp1, dones, weights)\n",
      "  File \"/home/jupyter/baselines/baselines/common/tf_util.py\", line 165, in <lambda>\n",
      "    return lambda *args, **kwargs: f(*args, **kwargs)[0]\n",
      "  File \"/home/jupyter/baselines/baselines/common/tf_util.py\", line 194, in __call__\n",
      "    results = tf.get_default_session().run(self.outputs_update, feed_dict=feed_dict)[:-1]\n",
      "  File \"/home/jupyter/anaconda3/envs/GVGAI_GYM/lib/python3.6/site-packages/tensorflow/python/client/session.py\", line 905, in run\n",
      "    run_metadata_ptr)\n",
      "  File \"/home/jupyter/anaconda3/envs/GVGAI_GYM/lib/python3.6/site-packages/tensorflow/python/client/session.py\", line 1137, in _run\n",
      "    feed_dict_tensor, options, run_metadata)\n",
      "  File \"/home/jupyter/anaconda3/envs/GVGAI_GYM/lib/python3.6/site-packages/tensorflow/python/client/session.py\", line 1355, in _do_run\n",
      "    options, run_metadata)\n",
      "  File \"/home/jupyter/anaconda3/envs/GVGAI_GYM/lib/python3.6/site-packages/tensorflow/python/client/session.py\", line 1361, in _do_call\n",
      "    return fn(*args)\n",
      "  File \"/home/jupyter/anaconda3/envs/GVGAI_GYM/lib/python3.6/site-packages/tensorflow/python/client/session.py\", line 1340, in _run_fn\n",
      "    target_list, status, run_metadata)\n",
      "KeyboardInterrupt\n",
      "\n",
      "During handling of the above exception, another exception occurred:\n",
      "\n",
      "Traceback (most recent call last):\n",
      "  File \"/home/jupyter/anaconda3/envs/GVGAI_GYM/lib/python3.6/site-packages/IPython/core/interactiveshell.py\", line 1806, in showtraceback\n",
      "    stb = value._render_traceback_()\n",
      "AttributeError: 'KeyboardInterrupt' object has no attribute '_render_traceback_'\n",
      "\n",
      "During handling of the above exception, another exception occurred:\n",
      "\n",
      "Traceback (most recent call last):\n",
      "  File \"/home/jupyter/anaconda3/envs/GVGAI_GYM/lib/python3.6/site-packages/IPython/core/ultratb.py\", line 1090, in get_records\n",
      "    return _fixed_getinnerframes(etb, number_of_lines_of_context, tb_offset)\n",
      "  File \"/home/jupyter/anaconda3/envs/GVGAI_GYM/lib/python3.6/site-packages/IPython/core/ultratb.py\", line 311, in wrapped\n",
      "    return f(*args, **kwargs)\n",
      "  File \"/home/jupyter/anaconda3/envs/GVGAI_GYM/lib/python3.6/site-packages/IPython/core/ultratb.py\", line 345, in _fixed_getinnerframes\n",
      "    records = fix_frame_records_filenames(inspect.getinnerframes(etb, context))\n",
      "  File \"/home/jupyter/anaconda3/envs/GVGAI_GYM/lib/python3.6/inspect.py\", line 1480, in getinnerframes\n",
      "    frameinfo = (tb.tb_frame,) + getframeinfo(tb, context)\n",
      "  File \"/home/jupyter/anaconda3/envs/GVGAI_GYM/lib/python3.6/inspect.py\", line 1442, in getframeinfo\n",
      "    lines, lnum = findsource(frame)\n",
      "  File \"/home/jupyter/anaconda3/envs/GVGAI_GYM/lib/python3.6/site-packages/IPython/core/ultratb.py\", line 165, in findsource\n",
      "    file = getsourcefile(object) or getfile(object)\n",
      "  File \"/home/jupyter/anaconda3/envs/GVGAI_GYM/lib/python3.6/inspect.py\", line 688, in getsourcefile\n",
      "    importlib.machinery.EXTENSION_SUFFIXES):\n",
      "  File \"/home/jupyter/anaconda3/envs/GVGAI_GYM/lib/python3.6/inspect.py\", line 687, in <genexpr>\n",
      "    elif any(filename.endswith(s) for s in\n",
      "KeyboardInterrupt\n"
     ]
    },
    {
     "ename": "KeyboardInterrupt",
     "evalue": "",
     "output_type": "error",
     "traceback": [
      "\u001b[0;31m---------------------------------------------------------------------------\u001b[0m"
     ]
    }
   ],
   "source": [
    "import gym\n",
    "\n",
    "from baselines import deepq\n",
    "\n",
    "from IPython.core.debugger import Tracer\n",
    "\n",
    "import gym_gvgai\n",
    "#env = gym.make('aliens-gvgai-v0')\n",
    "\n",
    "\n",
    "def main():\n",
    "    logger.configure()\n",
    "    set_global_seeds(0)\n",
    "    #env = make_atari('BreakoutNoFrameskip-v4')\n",
    "    #env = gym.make(\"Breakout-v0\")\n",
    "    env = gym.make('aliens-gvgai-v0')\n",
    "    #env = bench.Monitor(env, logger.get_dir())\n",
    "    #Tracer()()\n",
    "    #env = deepq.wrap_atari_dqn(env)\n",
    "    # Enabling layer_norm here is import for parameter space noise!\n",
    "    model = deepq.models.cnn_to_mlp(\n",
    "        convs=[(32, 8, 4), (64, 4, 2), (64, 3, 1)],\n",
    "        hiddens=[256],\n",
    "        dueling=bool(int(1)),\n",
    "    )\n",
    "    act = deepq.learn(\n",
    "        env,\n",
    "        q_func=model,\n",
    "        lr=1e-3,\n",
    "        max_timesteps=100000,\n",
    "        buffer_size=50000,\n",
    "        exploration_fraction=0.1,\n",
    "        exploration_final_eps=0.1,\n",
    "        print_freq=10,\n",
    "        param_noise=True\n",
    "    )\n",
    "    #print(\"Saving model to mountaincar_model.pkl\")\n",
    "    #act.save(\"mountaincar_model.pkl\")\n",
    "\n",
    "\n",
    "if __name__ == '__main__':\n",
    "    main()"
   ]
  },
  {
   "cell_type": "code",
   "execution_count": null,
   "metadata": {
    "collapsed": true
   },
   "outputs": [],
   "source": [
    "env = gym.make(\"Breakout-v0\")"
   ]
  },
  {
   "cell_type": "code",
   "execution_count": null,
   "metadata": {
    "collapsed": false
   },
   "outputs": [],
   "source": [
    "env.unwrapped.ale.lives()"
   ]
  },
  {
   "cell_type": "code",
   "execution_count": null,
   "metadata": {
    "collapsed": false
   },
   "outputs": [],
   "source": [
    "def main():\n",
    "    parser = argparse.ArgumentParser(formatter_class=argparse.ArgumentDefaultsHelpFormatter)\n",
    "    parser.add_argument('--env', help='environment ID', default='BreakoutNoFrameskip-v4')\n",
    "    parser.add_argument('--seed', help='RNG seed', type=int, default=0)\n",
    "    parser.add_argument('--prioritized', type=int, default=1)\n",
    "    parser.add_argument('--dueling', type=int, default=1)\n",
    "    parser.add_argument('--num-timesteps', type=int, default=int(10e6))\n",
    "    args = parser.parse_args()\n",
    "    logger.configure()\n",
    "    set_global_seeds(args.seed)\n",
    "    env = make_atari(args.env)\n",
    "    env = bench.Monitor(env, logger.get_dir())\n",
    "    env = deepq.wrap_atari_dqn(env)\n",
    "    model = deepq.models.cnn_to_mlp(\n",
    "        convs=[(32, 8, 4), (64, 4, 2), (64, 3, 1)],\n",
    "        hiddens=[256],\n",
    "        dueling=bool(args.dueling),\n",
    "    )\n",
    "    act = deepq.learn(\n",
    "        env,\n",
    "        q_func=model,\n",
    "        lr=1e-4,\n",
    "        max_timesteps=args.num_timesteps,\n",
    "        buffer_size=10000,\n",
    "        exploration_fraction=0.1,\n",
    "        exploration_final_eps=0.01,\n",
    "        train_freq=4,\n",
    "        learning_starts=10000,\n",
    "        target_network_update_freq=1000,\n",
    "        gamma=0.99,\n",
    "        prioritized_replay=bool(args.prioritized)\n",
    "    )\n",
    "    # act.save(\"pong_model.pkl\") XXX\n",
    "    env.close()\n",
    "\n",
    "\n",
    "if __name__ == '__main__':\n",
    "    main()"
   ]
  },
  {
   "cell_type": "code",
   "execution_count": null,
   "metadata": {
    "collapsed": true
   },
   "outputs": [],
   "source": []
  }
 ],
 "metadata": {
  "anaconda-cloud": {},
  "kernelspec": {
   "display_name": "Python [conda env:GVGAI_GYM]",
   "language": "python",
   "name": "conda-env-GVGAI_GYM-py"
  },
  "language_info": {
   "codemirror_mode": {
    "name": "ipython",
    "version": 3
   },
   "file_extension": ".py",
   "mimetype": "text/x-python",
   "name": "python",
   "nbconvert_exporter": "python",
   "pygments_lexer": "ipython3",
   "version": "3.6.2"
  }
 },
 "nbformat": 4,
 "nbformat_minor": 1
}
