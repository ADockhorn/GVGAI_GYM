{
 "cells": [
  {
   "cell_type": "code",
   "execution_count": null,
   "metadata": {
    "collapsed": false
   },
   "outputs": [],
   "source": [
    "from baselines import deepq\n",
    "from baselines.common import set_global_seeds\n",
    "from baselines import bench\n",
    "import argparse\n",
    "from baselines import logger\n",
    "from baselines.common.atari_wrappers import make_atari"
   ]
  },
  {
   "cell_type": "code",
   "execution_count": null,
   "metadata": {
    "collapsed": false
   },
   "outputs": [],
   "source": [
    "import gym\n",
    "\n",
    "from baselines import deepq\n",
    "\n",
    "\n",
    "def main():\n",
    "    logger.configure()\n",
    "    set_global_seeds(0)\n",
    "    env = make_atari('BreakoutNoFrameskip-v4')\n",
    "    #env = gym.make(\"Breakout-v0\")\n",
    "    env = bench.Monitor(env, logger.get_dir())\n",
    "    env = deepq.wrap_atari_dqn(env)\n",
    "    # Enabling layer_norm here is import for parameter space noise!\n",
    "    model = deepq.models.cnn_to_mlp(\n",
    "        convs=[(32, 8, 4), (64, 4, 2), (64, 3, 1)],\n",
    "        hiddens=[256],\n",
    "        dueling=bool(int(1)),\n",
    "    )\n",
    "    act = deepq.learn(\n",
    "        env,\n",
    "        q_func=model,\n",
    "        lr=1e-3,\n",
    "        max_timesteps=100000,\n",
    "        buffer_size=50000,\n",
    "        exploration_fraction=0.1,\n",
    "        exploration_final_eps=0.1,\n",
    "        print_freq=10,\n",
    "        param_noise=True\n",
    "    )\n",
    "    #print(\"Saving model to mountaincar_model.pkl\")\n",
    "    #act.save(\"mountaincar_model.pkl\")\n",
    "\n",
    "\n",
    "if __name__ == '__main__':\n",
    "    main()"
   ]
  },
  {
   "cell_type": "code",
   "execution_count": null,
   "metadata": {
    "collapsed": false
   },
   "outputs": [],
   "source": [
    "def main():\n",
    "    parser = argparse.ArgumentParser(formatter_class=argparse.ArgumentDefaultsHelpFormatter)\n",
    "    parser.add_argument('--env', help='environment ID', default='BreakoutNoFrameskip-v4')\n",
    "    parser.add_argument('--seed', help='RNG seed', type=int, default=0)\n",
    "    parser.add_argument('--prioritized', type=int, default=1)\n",
    "    parser.add_argument('--dueling', type=int, default=1)\n",
    "    parser.add_argument('--num-timesteps', type=int, default=int(10e6))\n",
    "    args = parser.parse_args()\n",
    "    logger.configure()\n",
    "    set_global_seeds(args.seed)\n",
    "    env = make_atari(args.env)\n",
    "    env = bench.Monitor(env, logger.get_dir())\n",
    "    env = deepq.wrap_atari_dqn(env)\n",
    "    model = deepq.models.cnn_to_mlp(\n",
    "        convs=[(32, 8, 4), (64, 4, 2), (64, 3, 1)],\n",
    "        hiddens=[256],\n",
    "        dueling=bool(args.dueling),\n",
    "    )\n",
    "    act = deepq.learn(\n",
    "        env,\n",
    "        q_func=model,\n",
    "        lr=1e-4,\n",
    "        max_timesteps=args.num_timesteps,\n",
    "        buffer_size=10000,\n",
    "        exploration_fraction=0.1,\n",
    "        exploration_final_eps=0.01,\n",
    "        train_freq=4,\n",
    "        learning_starts=10000,\n",
    "        target_network_update_freq=1000,\n",
    "        gamma=0.99,\n",
    "        prioritized_replay=bool(args.prioritized)\n",
    "    )\n",
    "    # act.save(\"pong_model.pkl\") XXX\n",
    "    env.close()\n",
    "\n",
    "\n",
    "if __name__ == '__main__':\n",
    "    main()"
   ]
  },
  {
   "cell_type": "code",
   "execution_count": null,
   "metadata": {
    "collapsed": true
   },
   "outputs": [],
   "source": []
  }
 ],
 "metadata": {
  "anaconda-cloud": {},
  "kernelspec": {
   "display_name": "Python [conda env:GVGAI_GYM]",
   "language": "python",
   "name": "conda-env-GVGAI_GYM-py"
  },
  "language_info": {
   "codemirror_mode": {
    "name": "ipython",
    "version": 3
   },
   "file_extension": ".py",
   "mimetype": "text/x-python",
   "name": "python",
   "nbconvert_exporter": "python",
   "pygments_lexer": "ipython3",
   "version": "3.6.2"
  }
 },
 "nbformat": 4,
 "nbformat_minor": 1
}
