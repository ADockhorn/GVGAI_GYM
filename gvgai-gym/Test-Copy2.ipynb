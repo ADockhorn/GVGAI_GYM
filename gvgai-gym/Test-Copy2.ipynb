{
 "cells": [
  {
   "cell_type": "code",
   "execution_count": null,
   "metadata": {
    "collapsed": true
   },
   "outputs": [],
   "source": [
    "#def callback(lcl, glb):\n",
    "    # stop training if reward exceeds 199\n",
    "#    is_solved = lcl['t'] > 100 and sum(lcl['episode_rewards'][-101:-1]) / 100 >= 199\n",
    "#    return is_solved"
   ]
  },
  {
   "cell_type": "code",
   "execution_count": 1,
   "metadata": {
    "collapsed": false
   },
   "outputs": [
    {
     "name": "stderr",
     "output_type": "stream",
     "text": [
      "/home/jupyter/anaconda3/envs/GVGAI_GYM/lib/python3.6/site-packages/h5py/__init__.py:34: FutureWarning: Conversion of the second argument of issubdtype from `float` to `np.floating` is deprecated. In future, it will be treated as `np.float64 == np.dtype(float).type`.\n",
      "  from ._conv import register_converters as _register_converters\n"
     ]
    }
   ],
   "source": [
    "from baselines import deepq\n",
    "from baselines.common import set_global_seeds\n",
    "from baselines import bench\n",
    "import argparse\n",
    "from baselines import logger\n",
    "from baselines.common.atari_wrappers import make_atari"
   ]
  },
  {
   "cell_type": "code",
   "execution_count": 2,
   "metadata": {
    "collapsed": false
   },
   "outputs": [
    {
     "name": "stdout",
     "output_type": "stream",
     "text": [
      "Logging to /tmp/openai-2018-03-02-22-24-39-876185\n",
      "GVGAI_Env - Version 0.0.1\n",
      "Connecting to host 127.0.0.1 at port 8080 ...\n",
      "Client connected to server [OK]\n",
      "GET SCREEN DIMENSIONS!!! (FIX: Right now just 110x300x3)\n",
      "WARNING:tensorflow:From /home/jupyter/anaconda3/envs/GVGAI_GYM/lib/python3.6/site-packages/tensorflow/python/ops/clip_ops.py:113: calling reduce_sum (from tensorflow.python.ops.math_ops) with keep_dims is deprecated and will be removed in a future version.\n",
      "Instructions for updating:\n",
      "keep_dims is deprecated, use keepdims instead\n"
     ]
    },
    {
     "name": "stderr",
     "output_type": "stream",
     "text": [
      "/home/jupyter/anaconda3/envs/GVGAI_GYM/lib/python3.6/site-packages/numpy/core/fromnumeric.py:2957: RuntimeWarning: Mean of empty slice.\n",
      "  out=out, **kwargs)\n",
      "/home/jupyter/anaconda3/envs/GVGAI_GYM/lib/python3.6/site-packages/numpy/core/_methods.py:80: RuntimeWarning: invalid value encountered in double_scalars\n",
      "  ret = ret.dtype.type(ret / rcount)\n"
     ]
    },
    {
     "name": "stdout",
     "output_type": "stream",
     "text": [
      "--------------------------------------\n",
      "| % time spent exploring  | 45       |\n",
      "| episodes                | 10       |\n",
      "| mean 100 episode reward | 2.1e+04  |\n",
      "| steps                   | 6004     |\n",
      "--------------------------------------\n",
      "--------------------------------------\n",
      "| % time spent exploring  | 11       |\n",
      "| episodes                | 20       |\n",
      "| mean 100 episode reward | 1.28e+04 |\n",
      "| steps                   | 9797     |\n",
      "--------------------------------------\n"
     ]
    },
    {
     "name": "stderr",
     "output_type": "stream",
     "text": [
      "ERROR:root:\n",
      "Traceback (most recent call last):\n",
      "  File \"/home/jupyter/Notebooks/ruben/gvgai-gym_2/gym_gvgai/envs/gvgai/clients/GVGAI-PythonClient/src/utils/IOSocket.py\", line 64, in readLine\n",
      "    msg = self.recv_end()\n",
      "  File \"/home/jupyter/Notebooks/ruben/gvgai-gym_2/gym_gvgai/envs/gvgai/clients/GVGAI-PythonClient/src/utils/IOSocket.py\", line 81, in recv_end\n",
      "    total_data.append(data)\n",
      "MemoryError\n"
     ]
    },
    {
     "name": "stdout",
     "output_type": "stream",
     "text": [
      "Read from server [FAILED]\n"
     ]
    },
    {
     "name": "stderr",
     "output_type": "stream",
     "text": [
      "Traceback (most recent call last):\n",
      "  File \"/home/jupyter/Notebooks/ruben/gvgai-gym_2/gym_gvgai/envs/gvgai/clients/GVGAI-PythonClient/src/utils/IOSocket.py\", line 64, in readLine\n",
      "    msg = self.recv_end()\n",
      "  File \"/home/jupyter/Notebooks/ruben/gvgai-gym_2/gym_gvgai/envs/gvgai/clients/GVGAI-PythonClient/src/utils/IOSocket.py\", line 81, in recv_end\n",
      "    total_data.append(data)\n",
      "MemoryError\n"
     ]
    },
    {
     "ename": "SystemExit",
     "evalue": "",
     "output_type": "error",
     "traceback": [
      "An exception has occurred, use %tb to see the full traceback.\n",
      "\u001b[0;31mSystemExit\u001b[0m\n"
     ]
    },
    {
     "name": "stderr",
     "output_type": "stream",
     "text": [
      "/home/jupyter/anaconda3/envs/GVGAI_GYM/lib/python3.6/site-packages/IPython/core/interactiveshell.py:2870: UserWarning: To exit: use 'exit', 'quit', or Ctrl-D.\n",
      "  warn(\"To exit: use 'exit', 'quit', or Ctrl-D.\", stacklevel=1)\n"
     ]
    }
   ],
   "source": [
    "import gym\n",
    "\n",
    "from baselines import deepq\n",
    "\n",
    "from IPython.core.debugger import Tracer\n",
    "\n",
    "import gym_gvgai\n",
    "#env = gym.make('aliens-gvgai-v0')\n",
    "\n",
    "\n",
    "def main():\n",
    "    logger.configure()\n",
    "    set_global_seeds(0)\n",
    "    #env = make_atari('BreakoutNoFrameskip-v4')\n",
    "    #env = gym.make(\"BreakoutNoFrameskip-v4\")\n",
    "    env = gym.make('aliens-gvgai-v0')\n",
    "    env = bench.Monitor(env, logger.get_dir())\n",
    "    #Tracer()()\n",
    "    #env = deepq.wrap_atari_dqn(env)\n",
    "    # Enabling layer_norm here is import for parameter space noise!\n",
    "    model = deepq.models.cnn_to_mlp(\n",
    "        convs=[(32, 8, 4), (64, 4, 2), (64, 3, 1)],\n",
    "        hiddens=[256],\n",
    "        dueling=bool(int(1)),\n",
    "    )\n",
    "    act = deepq.learn(\n",
    "        env,\n",
    "        q_func=model,\n",
    "        lr=1e-3,\n",
    "        max_timesteps=100000,\n",
    "        buffer_size=50000,\n",
    "        exploration_fraction=0.1,\n",
    "        exploration_final_eps=0.1,\n",
    "        print_freq=10,\n",
    "        #callback=callback\n",
    "    )\n",
    "    #print(\"Saving model to mountaincar_model.pkl\")\n",
    "    #act.save(\"mountaincar_model.pkl\")\n",
    "\n",
    "\n",
    "if __name__ == '__main__':\n",
    "    main()"
   ]
  },
  {
   "cell_type": "code",
   "execution_count": null,
   "metadata": {
    "collapsed": true
   },
   "outputs": [],
   "source": []
  },
  {
   "cell_type": "code",
   "execution_count": null,
   "metadata": {
    "collapsed": false
   },
   "outputs": [],
   "source": [
    "env.unwrapped.ale.lives()"
   ]
  },
  {
   "cell_type": "code",
   "execution_count": null,
   "metadata": {
    "collapsed": false
   },
   "outputs": [],
   "source": [
    "def main():\n",
    "    parser = argparse.ArgumentParser(formatter_class=argparse.ArgumentDefaultsHelpFormatter)\n",
    "    parser.add_argument('--env', help='environment ID', default='BreakoutNoFrameskip-v4')\n",
    "    parser.add_argument('--seed', help='RNG seed', type=int, default=0)\n",
    "    parser.add_argument('--prioritized', type=int, default=1)\n",
    "    parser.add_argument('--dueling', type=int, default=1)\n",
    "    parser.add_argument('--num-timesteps', type=int, default=int(10e6))\n",
    "    args = parser.parse_args()\n",
    "    logger.configure()\n",
    "    set_global_seeds(args.seed)\n",
    "    env = make_atari(args.env)\n",
    "    env = bench.Monitor(env, logger.get_dir())\n",
    "    env = deepq.wrap_atari_dqn(env)\n",
    "    model = deepq.models.cnn_to_mlp(\n",
    "        convs=[(32, 8, 4), (64, 4, 2), (64, 3, 1)],\n",
    "        hiddens=[256],\n",
    "        dueling=bool(args.dueling),\n",
    "    )\n",
    "    act = deepq.learn(\n",
    "        env,\n",
    "        q_func=model,\n",
    "        lr=1e-4,\n",
    "        max_timesteps=args.num_timesteps,\n",
    "        buffer_size=10000,\n",
    "        exploration_fraction=0.1,\n",
    "        exploration_final_eps=0.01,\n",
    "        train_freq=4,\n",
    "        learning_starts=10000,\n",
    "        target_network_update_freq=1000,\n",
    "        gamma=0.99,\n",
    "        prioritized_replay=bool(args.prioritized)\n",
    "    )\n",
    "    # act.save(\"pong_model.pkl\") XXX\n",
    "    env.close()\n",
    "\n",
    "\n",
    "if __name__ == '__main__':\n",
    "    main()"
   ]
  },
  {
   "cell_type": "code",
   "execution_count": null,
   "metadata": {
    "collapsed": true
   },
   "outputs": [],
   "source": []
  }
 ],
 "metadata": {
  "anaconda-cloud": {},
  "kernelspec": {
   "display_name": "Python [conda env:GVGAI_GYM]",
   "language": "python",
   "name": "conda-env-GVGAI_GYM-py"
  },
  "language_info": {
   "codemirror_mode": {
    "name": "ipython",
    "version": 3
   },
   "file_extension": ".py",
   "mimetype": "text/x-python",
   "name": "python",
   "nbconvert_exporter": "python",
   "pygments_lexer": "ipython3",
   "version": "3.6.2"
  }
 },
 "nbformat": 4,
 "nbformat_minor": 1
}
