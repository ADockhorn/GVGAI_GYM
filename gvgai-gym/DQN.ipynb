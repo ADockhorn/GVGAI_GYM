{
 "cells": [
  {
   "cell_type": "code",
   "execution_count": null,
   "metadata": {
    "collapsed": false
   },
   "outputs": [],
   "source": [
    "from baselines import deepq"
   ]
  },
  {
   "cell_type": "code",
   "execution_count": null,
   "metadata": {
    "collapsed": true
   },
   "outputs": [],
   "source": [
    "def callback(lcl, glb):\n",
    "    # stop training if reward exceeds 199\n",
    "    is_solved = lcl['t'] > 100 and sum(lcl['episode_rewards'][-101:-1]) / 100 >= 199\n",
    "    return is_solved"
   ]
  },
  {
   "cell_type": "code",
   "execution_count": null,
   "metadata": {
    "collapsed": false
   },
   "outputs": [],
   "source": [
    "env = gym.make(\"Breakout-v0\")\n",
    "model = deepq.models.mlp([64])\n",
    "act = deepq.learn(\n",
    "    env,\n",
    "    q_func=model,\n",
    "    lr=1e-3,\n",
    "    max_timesteps=100000,\n",
    "    buffer_size=50000,\n",
    "    exploration_fraction=0.1,\n",
    "    exploration_final_eps=0.02,\n",
    "    print_freq=10,\n",
    "    callback=callback\n",
    ")\n",
    "print(\"Saving model to cartpole_model.pkl\")\n",
    "act.save(\"cartpole_model.pkl\")"
   ]
  },
  {
   "cell_type": "code",
   "execution_count": 1,
   "metadata": {
    "collapsed": true
   },
   "outputs": [],
   "source": [
    "import timeit"
   ]
  },
  {
   "cell_type": "code",
   "execution_count": 2,
   "metadata": {
    "collapsed": false
   },
   "outputs": [
    {
     "name": "stdout",
     "output_type": "stream",
     "text": [
      "GVGAI_Env - Version 0.0.1\n",
      "Connecting to host 127.0.0.1 at port 8080 ...\n",
      "Client connected to server [OK]\n"
     ]
    }
   ],
   "source": [
    "from IPython.core.debugger import Tracer\n",
    "import imp\n",
    "import gym\n",
    "import gym_gvgai\n",
    "\n",
    "env = gym.make('waitforbreakfast-gvgai-v0')\t#Can't specify levels yet\n",
    "#env = gym.make(\"MsPacman-v0\")"
   ]
  },
  {
   "cell_type": "code",
   "execution_count": 8,
   "metadata": {
    "collapsed": false
   },
   "outputs": [
    {
     "name": "stdout",
     "output_type": "stream",
     "text": [
      "-0.011800825013779104\n"
     ]
    }
   ],
   "source": [
    "env.reset()\n",
    "start = timeit.timeit()\n",
    "\n",
    "for i in range(25):    \n",
    "    image, score, end, info = env.step(2)\n",
    "\n",
    "for i in range(12):\n",
    "    image, score, end, info = env.step(3)\n",
    "    if end:\n",
    "        print(score)\n",
    "\n",
    "        \n",
    "#for i in range(100):\n",
    "#    image, score, end, info = env.step(0)\n",
    "\n",
    "#for i in range(3000):\n",
    "    #env.reset()\n",
    "    #print(i)\n",
    "#    image, score, end, info = env.step(0) # take a random action\n",
    "    #print(score)\n",
    "#    if end:\n",
    "#        print(i)\n",
    "#        print(score)\n",
    "#        break\n",
    "    #    Tracer()()\n",
    "    #env.render('human')\n",
    "#endTime = timeit.timeit()\n",
    "print(end - start)"
   ]
  },
  {
   "cell_type": "code",
   "execution_count": 7,
   "metadata": {
    "collapsed": false
   },
   "outputs": [
    {
     "data": {
      "text/plain": [
       "array([[[ 14,  12,  12, 255],\n",
       "        [ 23,  19,  19, 255],\n",
       "        [ 23,  19,  19, 255],\n",
       "        ...,\n",
       "        [ 15,  13,  15, 255],\n",
       "        [  9,   9,  10, 255],\n",
       "        [ 12,  12,  14, 255]],\n",
       "\n",
       "       [[ 13,  11,  11, 255],\n",
       "        [ 36,  28,  28, 255],\n",
       "        [ 36,  28,  28, 255],\n",
       "        ...,\n",
       "        [ 25,  21,  26, 255],\n",
       "        [ 12,  12,  14, 255],\n",
       "        [ 19,  19,  23, 255]],\n",
       "\n",
       "       [[  5,   5,   5, 255],\n",
       "        [  4,   4,   4, 255],\n",
       "        [ 10,   9,   9, 255],\n",
       "        ...,\n",
       "        [  9,   8,   9, 255],\n",
       "        [  5,   5,   5, 255],\n",
       "        [ 12,  12,  14, 255]],\n",
       "\n",
       "       ...,\n",
       "\n",
       "       [[ 14,  14,  13, 255],\n",
       "        [ 43,  42,  37, 255],\n",
       "        [ 44,  43,  39, 255],\n",
       "        ...,\n",
       "        [ 59,  59,  59, 255],\n",
       "        [  4,   4,   4, 255],\n",
       "        [ 35,  35,  35, 255]],\n",
       "\n",
       "       [[ 26,  25,  23, 255],\n",
       "        [ 42,  40,  36, 255],\n",
       "        [ 43,  42,  37, 255],\n",
       "        ...,\n",
       "        [ 59,  59,  59, 255],\n",
       "        [  4,   4,   4, 255],\n",
       "        [ 35,  35,  35, 255]],\n",
       "\n",
       "       [[ 15,  15,  14, 255],\n",
       "        [ 26,  25,  23, 255],\n",
       "        [ 26,  25,  23, 255],\n",
       "        ...,\n",
       "        [ 35,  35,  35, 255],\n",
       "        [  4,   4,   4, 255],\n",
       "        [ 19,  19,  19, 255]]], dtype=uint8)"
      ]
     },
     "execution_count": 7,
     "metadata": {},
     "output_type": "execute_result"
    }
   ],
   "source": [
    "env.reset()"
   ]
  },
  {
   "cell_type": "code",
   "execution_count": null,
   "metadata": {
    "collapsed": false
   },
   "outputs": [],
   "source": [
    "immmmg=env.reset()"
   ]
  },
  {
   "cell_type": "code",
   "execution_count": null,
   "metadata": {
    "collapsed": true
   },
   "outputs": [],
   "source": [
    "image, score, end, info = env.step(env.action_space.sample())"
   ]
  },
  {
   "cell_type": "code",
   "execution_count": null,
   "metadata": {
    "collapsed": false
   },
   "outputs": [],
   "source": [
    "score"
   ]
  },
  {
   "cell_type": "code",
   "execution_count": null,
   "metadata": {
    "collapsed": false
   },
   "outputs": [],
   "source": [
    "score"
   ]
  },
  {
   "cell_type": "code",
   "execution_count": null,
   "metadata": {
    "collapsed": true
   },
   "outputs": [],
   "source": []
  }
 ],
 "metadata": {
  "anaconda-cloud": {},
  "kernelspec": {
   "display_name": "Python [conda env:GVGAI_GYM]",
   "language": "python",
   "name": "conda-env-GVGAI_GYM-py"
  },
  "language_info": {
   "codemirror_mode": {
    "name": "ipython",
    "version": 3
   },
   "file_extension": ".py",
   "mimetype": "text/x-python",
   "name": "python",
   "nbconvert_exporter": "python",
   "pygments_lexer": "ipython3",
   "version": "3.6.2"
  }
 },
 "nbformat": 4,
 "nbformat_minor": 1
}
